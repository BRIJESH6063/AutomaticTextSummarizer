{
 "cells": [
  {
   "cell_type": "code",
   "execution_count": 4,
   "id": "a6c21725",
   "metadata": {},
   "outputs": [],
   "source": [
    "import numpy as np\n",
    "import pandas as pd\n",
    "import pickle\n",
    "from statistics import mode\n",
    "import nltk\n",
    "from nltk import word_tokenize\n",
    "from nltk.stem import LancasterStemmer\n",
    "from nltk.corpus import stopwords\n",
    "from tensorflow.keras.models import Model\n",
    "from tensorflow.keras import models\n",
    "from tensorflow.keras import backend as K\n",
    "from tensorflow.keras.preprocessing.sequence import pad_sequences\n",
    "from tensorflow.keras.preprocessing.text import Tokenizer\n",
    "from tensorflow.keras.utils import plot_model\n",
    "from tensorflow.keras.layers import Input,LSTM,Embedding,Dense,Concatenate,Attention\n",
    "from sklearn.model_selection import train_test_split\n",
    "from bs4 import BeautifulSoup\n",
    "# import pydot-ng as pydot"
   ]
  },
  {
   "cell_type": "code",
   "execution_count": 5,
   "id": "d280d6f2",
   "metadata": {},
   "outputs": [],
   "source": [
    "df=pd.read_csv(\"Reviews.csv\", nrows=100000)\n",
    "df.drop_duplicates(subset=[\"Text\"], inplace=True)   # Removes duplicate data\n",
    "df.dropna(axis=0, inplace=True)                     # Removes Null values\n",
    "input_data = df.loc[:, \"Text\"]\n",
    "target_data = df.loc[:, \"Summary\"]\n",
    "target_data.replace('', np.nan, inplace=True)"
   ]
  },
  {
   "cell_type": "code",
   "execution_count": 6,
   "id": "157a6e8f",
   "metadata": {},
   "outputs": [],
   "source": [
    "input_texts = []\n",
    "target_texts = []\n",
    "input_words = []\n",
    "target_words = []\n",
    "contractions=pickle.load(open(\"contractions.pkl\",\"rb\"))['contractions']\n",
    "stop_words = stopwords.words('english')\n",
    "stemmer = LancasterStemmer()"
   ]
  },
  {
   "cell_type": "code",
   "execution_count": 7,
   "id": "45d815d8",
   "metadata": {},
   "outputs": [],
   "source": [
    "def clean(texts, src):\n",
    "    # Removing the HTML tags present in the text using Beautiful Soup\n",
    "    texts = BeautifulSoup(texts, \"lxml\").text      # https://www.pluralsight.com/guides/extracting-data-html-beautifulsoup\n",
    "    \n",
    "    # Tokenizing the reviews and converting into lowercase\n",
    "    words = word_tokenize(texts.lower())\n",
    "    \n",
    "    # Filtering words containing numbers and words with length less than 3\n",
    "    words = list(filter(lambda w: (w.isalpha() and len(w)>=3), words))   # Because filter returns a filter object not a list\n",
    "    \n",
    "    # Expansion of shortened words from the contractions dictionary\n",
    "    words = [contractions[w] if w in contractions else w for w in words]\n",
    "    \n",
    "   # Stemming of words and removal of stopwords\n",
    "    if src==\"inputs\":\n",
    "        words = [stemmer.stem(w) for w in words if w not in stop_words]\n",
    "        \n",
    "    else:\n",
    "        words = [w for w in words if w not in stop_words]\n",
    "        \n",
    "    return words"
   ]
  },
  {
   "cell_type": "code",
   "execution_count": 8,
   "id": "d1488abc",
   "metadata": {
    "scrolled": true
   },
   "outputs": [
    {
     "name": "stderr",
     "output_type": "stream",
     "text": [
      "C:\\Users\\Aditya Agarwal\\AppData\\Local\\Programs\\Python\\Python310\\lib\\site-packages\\bs4\\__init__.py:435: MarkupResemblesLocatorWarning: The input looks more like a filename than markup. You may want to open this file and pass the filehandle into Beautiful Soup.\n",
      "  warnings.warn(\n"
     ]
    }
   ],
   "source": [
    "for in_txt, tr_txt in zip(input_data, target_data):\n",
    "    in_words = clean(in_txt, \"inputs\")\n",
    "#     print(in_words)\n",
    "    input_texts += [' '.join(in_words)]\n",
    "#     print(\"----------------------------------------------------\")\n",
    "#     print(input_texts)\n",
    "    input_words += in_words\n",
    "#     print(\"----------------------------------------------------\")\n",
    "#     print(input_words)\n",
    "    \n",
    "    tr_words = clean(\"sos \" + tr_txt + \" eos\", \"target\")\n",
    "#     print(tr_words)\n",
    "    target_texts += [' '.join(tr_words)]\n",
    "#     print(target_texts)\n",
    "    target_words += tr_words\n",
    "#     print(target_words)"
   ]
  },
  {
   "cell_type": "code",
   "execution_count": 9,
   "id": "0ed5b510",
   "metadata": {},
   "outputs": [
    {
     "data": {
      "text/plain": [
       "['man', 'chang', 'good', 'gain', 'knowledg', 'happy', 'whatev', 'rath', 'lam']"
      ]
     },
     "execution_count": 9,
     "metadata": {},
     "output_type": "execute_result"
    }
   ],
   "source": [
    "clean(\"That man has changed for good because he gained the knowledge of being happy in whatever he has rather than lamenting for what you don't have\", \"inputs\")"
   ]
  },
  {
   "cell_type": "code",
   "execution_count": 10,
   "id": "fa6c81a8",
   "metadata": {},
   "outputs": [
    {
     "name": "stdout",
     "output_type": "stream",
     "text": [
      "Number of input words:  32198\n",
      "Number of target words:  14170\n",
      "Maximum input length:  74\n",
      "Maximum target length:  17\n"
     ]
    }
   ],
   "source": [
    "# Sorting and Removing Duplicate words\n",
    "input_words = sorted(list(set(input_words)))\n",
    "target_words = sorted(list(set(target_words)))\n",
    "num_input_words = len(input_words)\n",
    "num_target_words = len(target_words)\n",
    "\n",
    "# Length of the words which appear more often (Mode of the length of the words)\n",
    "max_input_len = mode([len(i) for i in input_texts])\n",
    "max_target_len = mode([len(i) for i in target_texts])\n",
    "\n",
    "print(\"Number of input words: \", num_input_words)\n",
    "print(\"Number of target words: \", num_target_words)\n",
    "print(\"Maximum input length: \", max_input_len)\n",
    "print(\"Maximum target length: \", max_target_len)"
   ]
  },
  {
   "cell_type": "code",
   "execution_count": 11,
   "id": "9ff3d0f1",
   "metadata": {},
   "outputs": [],
   "source": [
    "x_train, x_test, y_train, y_test = train_test_split(input_texts, target_texts, test_size = 0.2, random_state = 0)\n",
    "# print(y_train[0:5])"
   ]
  },
  {
   "cell_type": "code",
   "execution_count": 12,
   "id": "dedfe67d",
   "metadata": {},
   "outputs": [],
   "source": [
    "input_tokenizer = Tokenizer()\n",
    "input_tokenizer.fit_on_texts(x_train)\n",
    "target_tokenizer = Tokenizer()\n",
    "target_tokenizer.fit_on_texts(y_train)\n",
    "x_train = input_tokenizer.texts_to_sequences(x_train)\n",
    "y_train = target_tokenizer.texts_to_sequences(y_train)"
   ]
  },
  {
   "cell_type": "code",
   "execution_count": 13,
   "id": "e84bf9d3",
   "metadata": {},
   "outputs": [],
   "source": [
    "enc_input_data = pad_sequences(x_train, maxlen = max_input_len, padding = 'post')\n",
    "\n",
    "#decoder input data will not include the last word i.e. 'eos' in decoder input data\n",
    "\n",
    "dec_input_data = [x[:-1] for x in y_train]\n",
    "dec_input_data = pad_sequences(dec_input_data, maxlen = max_target_len, padding = 'post')\n",
    "# print(dec_input_data.shape)\n",
    "\n",
    "\n",
    "#decoder target data will be one time step ahead as it will not include the first word i.e 'sos'\n",
    "\n",
    "dec_data= pad_sequences(y_train,  maxlen = max_target_len, padding = 'post')\n",
    "dec_target_data = dec_data[:,1:]\n",
    "\n",
    "# print(dec_data.shape)\n",
    "# print(dec_data[0])\n",
    "\n",
    "dec_target_data= pad_sequences(dec_target_data,  maxlen = max_target_len, padding = 'post')\n",
    "\n",
    "# print(dec_target_data.shape)\n",
    "# print(dec_target_data[0])\n",
    "\n",
    "dec_target_data = dec_target_data.reshape(len(dec_data),max_target_len,1)\n",
    "# print(dec_target_data.shape)"
   ]
  },
  {
   "cell_type": "code",
   "execution_count": 14,
   "id": "204d9750",
   "metadata": {},
   "outputs": [],
   "source": [
    "K.clear_session()\n",
    "latent_dim = 500\n",
    "# Latent space refers to an abstract multi-dimensional space containing feature values that we cannot interpret directly, but which encodes a meaningful internal representation of externally observed events.\n",
    "\n",
    "encoder_inputs = Input(shape = (max_input_len,))\n",
    "# print(encoder_inputs)\n",
    "#Input() is used to instantiate a Keras tensor.\n",
    "# A Keras tensor is a symbolic tensor-like object, which we augment with certain attributes that allow us to build a Keras model just by knowing the inputs and outputs of the model.\n",
    "\n",
    "encoder_embedding = Embedding(num_input_words+1, latent_dim)(encoder_inputs)"
   ]
  },
  {
   "cell_type": "code",
   "execution_count": 15,
   "id": "c70988cc",
   "metadata": {},
   "outputs": [],
   "source": [
    "# 3 stacked LSTM layers with the shape of hidden dimension\n",
    "\n",
    "# LSTM1\n",
    "en_lstm1 = LSTM(latent_dim, return_state = True, return_sequences = True)\n",
    "en_outputs1, state_h1, state_c1 = en_lstm1(encoder_embedding)\n",
    "\n",
    "# LSTM2\n",
    "en_lstm2 = LSTM(latent_dim, return_state = True, return_sequences = True)\n",
    "en_outputs2, state_h2, state_c2 = en_lstm2(en_outputs1)\n",
    "\n",
    "# LSTM3\n",
    "en_lstm3 = LSTM(latent_dim, return_state = True, return_sequences = True)\n",
    "en_outputs3, state_h3, state_c3 = en_lstm3(en_outputs2)\n",
    "\n",
    "encoder_states = [state_h3, state_c3]"
   ]
  },
  {
   "cell_type": "code",
   "execution_count": 16,
   "id": "d1c7a388",
   "metadata": {
    "scrolled": true
   },
   "outputs": [],
   "source": [
    "# Decoder\n",
    "decoder_inputs = Input(shape = (None,))\n",
    "decoder_embedding = Embedding(num_target_words + 1, latent_dim)(decoder_inputs)\n",
    "\n",
    "\n",
    "decoder_lstm = LSTM(latent_dim, return_sequences = True, return_state = True)\n",
    "decoder_outputs, *_ = decoder_lstm(decoder_embedding, initial_state = encoder_states)"
   ]
  },
  {
   "cell_type": "code",
   "execution_count": 17,
   "id": "a08d4caa",
   "metadata": {},
   "outputs": [],
   "source": [
    "# Attention Layer\n",
    "attention = Attention()([decoder_outputs, en_outputs3])\n",
    "\n",
    "# Concatenate the attention output with the decoder outputs\n",
    "merge = Concatenate(axis = -1, name = 'concat_layer1')([decoder_outputs, attention])"
   ]
  },
  {
   "cell_type": "code",
   "execution_count": 18,
   "id": "6ce97bf0",
   "metadata": {},
   "outputs": [],
   "source": [
    "# Dense Layer(Ouput Layer)\n",
    "dense = Dense(num_target_words+1, activation = \"softmax\")\n",
    "final_decoder_outputs = dense(merge)"
   ]
  },
  {
   "cell_type": "code",
   "execution_count": 19,
   "id": "830f6118",
   "metadata": {},
   "outputs": [
    {
     "name": "stdout",
     "output_type": "stream",
     "text": [
      "Model: \"model\"\n",
      "__________________________________________________________________________________________________\n",
      " Layer (type)                   Output Shape         Param #     Connected to                     \n",
      "==================================================================================================\n",
      " input_1 (InputLayer)           [(None, 74)]         0           []                               \n",
      "                                                                                                  \n",
      " embedding (Embedding)          (None, 74, 500)      16099500    ['input_1[0][0]']                \n",
      "                                                                                                  \n",
      " lstm (LSTM)                    [(None, 74, 500),    2002000     ['embedding[0][0]']              \n",
      "                                 (None, 500),                                                     \n",
      "                                 (None, 500)]                                                     \n",
      "                                                                                                  \n",
      " input_2 (InputLayer)           [(None, None)]       0           []                               \n",
      "                                                                                                  \n",
      " lstm_1 (LSTM)                  [(None, 74, 500),    2002000     ['lstm[0][0]']                   \n",
      "                                 (None, 500),                                                     \n",
      "                                 (None, 500)]                                                     \n",
      "                                                                                                  \n",
      " embedding_1 (Embedding)        (None, None, 500)    7085500     ['input_2[0][0]']                \n",
      "                                                                                                  \n",
      " lstm_2 (LSTM)                  [(None, 74, 500),    2002000     ['lstm_1[0][0]']                 \n",
      "                                 (None, 500),                                                     \n",
      "                                 (None, 500)]                                                     \n",
      "                                                                                                  \n",
      " lstm_3 (LSTM)                  [(None, None, 500),  2002000     ['embedding_1[0][0]',            \n",
      "                                 (None, 500),                     'lstm_2[0][1]',                 \n",
      "                                 (None, 500)]                     'lstm_2[0][2]']                 \n",
      "                                                                                                  \n",
      " attention (Attention)          (None, None, 500)    0           ['lstm_3[0][0]',                 \n",
      "                                                                  'lstm_2[0][0]']                 \n",
      "                                                                                                  \n",
      " concat_layer1 (Concatenate)    (None, None, 1000)   0           ['lstm_3[0][0]',                 \n",
      "                                                                  'attention[0][0]']              \n",
      "                                                                                                  \n",
      " dense (Dense)                  (None, None, 14171)  14185171    ['concat_layer1[0][0]']          \n",
      "                                                                                                  \n",
      "==================================================================================================\n",
      "Total params: 45,378,171\n",
      "Trainable params: 45,378,171\n",
      "Non-trainable params: 0\n",
      "__________________________________________________________________________________________________\n"
     ]
    },
    {
     "data": {
      "image/png": "[encoded data removed]",
      "text/plain": [
       "<IPython.core.display.Image object>"
      ]
     },
     "execution_count": 19,
     "metadata": {},
     "output_type": "execute_result"
    }
   ],
   "source": [
    "model = Model([encoder_inputs, decoder_inputs], final_decoder_outputs)\n",
    "model.summary()\n",
    "plot_model(model, to_file = \"model_plot.png\", show_shapes = True, show_layer_names = True)"
   ]
  },
  {
   "cell_type": "code",
   "execution_count": 19,
   "id": "8262f120",
   "metadata": {},
   "outputs": [
    {
     "name": "stdout",
     "output_type": "stream",
     "text": [
      "Epoch 1/10\n",
      "125/125 [==============================] - 1384s 11s/step - loss: 1.4490 - accuracy: 0.8223 - val_loss: 1.2138 - val_accuracy: 0.8421\n",
      "Epoch 2/10\n",
      "125/125 [==============================] - 1409s 11s/step - loss: 1.1620 - accuracy: 0.8438 - val_loss: 1.1352 - val_accuracy: 0.8453\n",
      "Epoch 3/10\n",
      "125/125 [==============================] - 1373s 11s/step - loss: 1.1001 - accuracy: 0.8455 - val_loss: 1.0974 - val_accuracy: 0.8479\n",
      "Epoch 4/10\n",
      "125/125 [==============================] - 1353s 11s/step - loss: 1.0525 - accuracy: 0.8480 - val_loss: 1.0752 - val_accuracy: 0.8494\n",
      "Epoch 5/10\n",
      "125/125 [==============================] - 1294s 10s/step - loss: 1.0130 - accuracy: 0.8498 - val_loss: 1.0556 - val_accuracy: 0.8502\n",
      "Epoch 6/10\n",
      "125/125 [==============================] - 1335s 11s/step - loss: 0.9764 - accuracy: 0.8513 - val_loss: 1.0465 - val_accuracy: 0.8505\n",
      "Epoch 7/10\n",
      "125/125 [==============================] - 1363s 11s/step - loss: 0.9418 - accuracy: 0.8531 - val_loss: 1.0378 - val_accuracy: 0.8511\n",
      "Epoch 8/10\n",
      "125/125 [==============================] - 1406s 11s/step - loss: 0.9089 - accuracy: 0.8548 - val_loss: 1.0332 - val_accuracy: 0.8514\n",
      "Epoch 9/10\n",
      "125/125 [==============================] - 1397s 11s/step - loss: 0.8767 - accuracy: 0.8565 - val_loss: 1.0308 - val_accuracy: 0.8515\n",
      "Epoch 10/10\n",
      "125/125 [==============================] - 1334s 11s/step - loss: 0.8451 - accuracy: 0.8582 - val_loss: 1.0275 - val_accuracy: 0.8521\n"
     ]
    },
    {
     "data": {
      "text/plain": [
       "<keras.callbacks.History at 0x21cad057a90>"
      ]
     },
     "execution_count": 19,
     "metadata": {},
     "output_type": "execute_result"
    }
   ],
   "source": [
    "# model.compile(optimizer = \"rmsprop\", loss = \"sparse_categorical_crossentropy\", metrics = [\"accuracy\"])\n",
    "# model.fit(\n",
    "#     [enc_input_data, dec_input_data],\n",
    "#     dec_target_data,\n",
    "#     batch_size = 512,\n",
    "#     epochs = 10,\n",
    "#     validation_split = 0.1,\n",
    "# )"
   ]
  },
  {
   "cell_type": "code",
   "execution_count": 20,
   "id": "d84bf8e4",
   "metadata": {},
   "outputs": [
    {
     "name": "stderr",
     "output_type": "stream",
     "text": [
      "WARNING:absl:Found untraced functions such as lstm_cell_layer_call_fn, lstm_cell_layer_call_and_return_conditional_losses, lstm_cell_1_layer_call_fn, lstm_cell_1_layer_call_and_return_conditional_losses, lstm_cell_2_layer_call_fn while saving (showing 5 of 8). These functions will not be directly callable after loading.\n"
     ]
    },
    {
     "name": "stdout",
     "output_type": "stream",
     "text": [
      "INFO:tensorflow:Assets written to: s2s\\assets\n"
     ]
    },
    {
     "name": "stderr",
     "output_type": "stream",
     "text": [
      "INFO:tensorflow:Assets written to: s2s\\assets\n"
     ]
    }
   ],
   "source": [
    "# model.save(\"s2s\")\n",
    "# model.save(\"text_summ.h5\")"
   ]
  },
  {
   "cell_type": "code",
   "execution_count": 21,
   "id": "39ffcc49",
   "metadata": {},
   "outputs": [
    {
     "data": {
      "text/plain": [
       "<keras.engine.input_layer.InputLayer at 0x1ad4a316d40>"
      ]
     },
     "execution_count": 21,
     "metadata": {},
     "output_type": "execute_result"
    }
   ],
   "source": [
    "# encoder inference\n",
    "latent_dim=500\n",
    "\n",
    "#load the model\n",
    "model = models.load_model(\"s2s\")"
   ]
  },
  {
   "cell_type": "code",
   "execution_count": 36,
   "id": "e201817c",
   "metadata": {},
   "outputs": [],
   "source": [
    "#construct encoder model from the output of 6 layer i.e.last LSTM layer\n",
    "en_outputs,state_h_enc,state_c_enc = model.layers[6].output\n",
    "en_states=[state_h_enc,state_c_enc]\n",
    "\n",
    "#add input and state from the layer.\n",
    "en_model = Model(model.input[0],[en_outputs]+en_states)"
   ]
  },
  {
   "cell_type": "code",
   "execution_count": 38,
   "id": "da0bbbf2",
   "metadata": {},
   "outputs": [],
   "source": [
    "# model.layers"
   ]
  },
  {
   "cell_type": "code",
   "execution_count": 54,
   "id": "f6068647",
   "metadata": {},
   "outputs": [],
   "source": [
    "# Decoder Inference\n",
    "decoder_state_input_hidden = Input(shape=(latent_dim))\n",
    "decoder_state_input_cell = Input(shape=(latent_dim))\n",
    "\n",
    "dec_inputs = model.input[1]\n",
    "dec_emb_layer = model.layers[5]\n",
    "decoder_lstm = model.layers[7]\n",
    "decoder_embedding = dec_emb_layer(dec_inputs)\n",
    "\n",
    "decoder_outputs2, state_h2, state_c2 = decoder_lstm(decoder_embedding, initial_state=[decoder_state_input_hidden, decoder_state_input_cell])"
   ]
  },
  {
   "cell_type": "code",
   "execution_count": 55,
   "id": "d82bedb2",
   "metadata": {},
   "outputs": [],
   "source": [
    "# Attention Layer\n",
    "dec_hidden_state_input = Input(shape=(max_input_len, latent_dim))\n",
    "\n",
    "attention = model.layers[8]\n",
    "attention_output = attention([decoder_outputs2, dec_hidden_state_input])\n",
    "\n",
    "merge2 = Concatenate(axis=-1)([decoder_outputs2, attention_output])"
   ]
  },
  {
   "cell_type": "code",
   "execution_count": 56,
   "id": "d0243964",
   "metadata": {},
   "outputs": [],
   "source": [
    "# Desnse Layer\n",
    "decoder_dense = model.layers[10]\n",
    "decoder_outputs2 = decoder_dense(merge2)\n",
    "\n",
    "decoder_model = Model([dec_inputs] + [dec_hidden_state_input, decoder_state_input_hidden, decoder_state_input_cell], \n",
    "                     [decoder_outputs2] + [state_h2, state_c2])"
   ]
  },
  {
   "cell_type": "code",
   "execution_count": null,
   "id": "0ac0a2d5",
   "metadata": {},
   "outputs": [],
   "source": []
  }
 ],
 "metadata": {
  "kernelspec": {
   "display_name": "Python 3 (ipykernel)",
   "language": "python",
   "name": "python3"
  },
  "language_info": {
   "codemirror_mode": {
    "name": "ipython",
    "version": 3
   },
   "file_extension": ".py",
   "mimetype": "text/x-python",
   "name": "python",
   "nbconvert_exporter": "python",
   "pygments_lexer": "ipython3",
   "version": "3.10.4"
  }
 },
 "nbformat": 4,
 "nbformat_minor": 5
}
